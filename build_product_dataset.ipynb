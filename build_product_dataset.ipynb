{
 "cells": [
  {
   "attachments": {},
   "cell_type": "markdown",
   "metadata": {},
   "source": [
    "**Purpose**  \n",
    "Build a dataset to explore data of food products.\n",
    "\n",
    "**Prerequisites**\n",
    "- [X] The script need a OpenFoodFact mongo database running."
   ]
  },
  {
   "cell_type": "code",
   "execution_count": null,
   "metadata": {},
   "outputs": [],
   "source": [
    "from pymongo import MongoClient"
   ]
  },
  {
   "cell_type": "code",
   "execution_count": null,
   "metadata": {},
   "outputs": [],
   "source": [
    "client = MongoClient('localhost', 27017, connectTimeoutMS=5000, serverSelectionTimeoutMS=5000)\n",
    "msg = client.server_info()\n",
    "if isinstance(msg, dict):\n",
    "    print('MongoDB is running. Info:\\n')\n",
    "    for k, v in msg.items():\n",
    "        print('-', k, ':', v)"
   ]
  },
  {
   "cell_type": "code",
   "execution_count": null,
   "metadata": {},
   "outputs": [],
   "source": [
    "db = client['off']\n",
    "collection = db['products']\n",
    "prefix = 'https://images.openfoodfacts.org/images/products/'"
   ]
  },
  {
   "cell_type": "code",
   "execution_count": null,
   "metadata": {},
   "outputs": [],
   "source": [
    "projection = {'id':1}\n",
    "query = {\n",
    "    'countries_tags':{'$in':[\"en:france\"]},\n",
    "    # \"nutriscore_score\":{'$ne':None},\n",
    "    # \"ecoscore_score\":{'$ne':None},\n",
    "    # \"nova_group\":{'$ne':None},\n",
    "    }\n",
    "cursor = collection.find(query, projection=projection, limit=False)\n",
    "print('number of product:', len(list(cursor)))"
   ]
  },
  {
   "cell_type": "code",
   "execution_count": null,
   "metadata": {},
   "outputs": [],
   "source": [
    "# inspired from https://github.com/openfoodfacts/openfoodfacts-server/blob/main/html/data/data-fields.md\n",
    "projection = {\n",
    "    'id':1,\n",
    "    'product_name':1,\n",
    "    'brands':1,\n",
    "    'categories':1,\n",
    "    'categories_en':1,\n",
    "    'categories_tags':1,\n",
    "    'compared_to_category':1,\n",
    "    'countries_tags':1,\n",
    "    'food_groups':1,\n",
    "    'food_groups_tags':1,\n",
    "    'scans_n':1,\n",
    "    'unique_scans_n':1,\n",
    "    'origins':1,\n",
    "    'origins_tags':1,\n",
    "    'origins_en':1,\n",
    "    'manufacturing_places':1,\n",
    "    'manufacturing_places_tags':1,\n",
    "    'stores':1,\n",
    "    'purchase_places':1,\n",
    "    'countries':1,\n",
    "    'countries_tags':1,\n",
    "    # ingredient\n",
    "    'labels':1,\n",
    "    'labels_tags':1,\n",
    "    'ingredients_n':1,\n",
    "    'additives_n':1,\n",
    "    'nutrition_data_prepared_per':1,\n",
    "    'ingredients_text_en':1,\n",
    "    'ingredients_text_fr':1,\n",
    "    'ingredients_tags':1,\n",
    "    'additives_tags':1,\n",
    "    'ingredients_hierarchy':1,\n",
    "    'serving_size':1,\n",
    "    'serving_quantity':1,\n",
    "    'product_quantity':1,\n",
    "    'quantity':1,\n",
    "    # packaging\n",
    "    'packaging_tags':1,\n",
    "    'popularity_tags':1,\n",
    "    # score\n",
    "    'ecoscore_grade':1,\n",
    "    'ecoscore_score':1,\n",
    "    'nova_group':1,\n",
    "    'nova_groups_tags':1,\n",
    "    'nutriscore_score':1,\n",
    "    # nutriments\n",
    "    'nutriments':1,\n",
    "    }\n",
    "query = {\n",
    "    'countries_tags':{'$in':[\"en:france\"]},\n",
    "    \"nutriscore_score\":{'$ne':None},\n",
    "    \"ecoscore_score\":{'$ne':None},\n",
    "    \"nova_group\":{'$ne':None},\n",
    "    }\n",
    "cursor = collection.find(query, projection=projection, limit=10_000)"
   ]
  },
  {
   "cell_type": "code",
   "execution_count": null,
   "metadata": {},
   "outputs": [],
   "source": []
  },
  {
   "cell_type": "code",
   "execution_count": null,
   "metadata": {},
   "outputs": [],
   "source": []
  },
  {
   "cell_type": "code",
   "execution_count": null,
   "metadata": {},
   "outputs": [],
   "source": [
    "from typing import List, Dict, Any\n",
    "from pandas import DataFrame\n",
    "\n",
    "class OpenFoodFactParser():\n",
    "    \n",
    "    def __init__(self, json_data:List[Dict[str, Any]]):\n",
    "        self.data = json_data\n",
    "        \n",
    "    def to_df(self):\n",
    "        data_ = {}\n",
    "        for product in self.data:\n",
    "            data_['index'] = product['id']\n",
    "            for k, v in product.items():\n",
    "                if isinstance(v, list):\n",
    "                    data_[k] = ';'.join(v)\n",
    "                elif isinstance(v, dict):\n",
    "                    data_[k] = ';'.join([f'{k_}:{v_}' for k_, v_ in v.items()])\n",
    "                if isinstance(v, ('str', int, float)):\n",
    "                    data_[k] = v\n",
    "        return DataFrame.from_dict(data_)"
   ]
  },
  {
   "cell_type": "code",
   "execution_count": null,
   "metadata": {},
   "outputs": [],
   "source": []
  }
 ],
 "metadata": {
  "kernelspec": {
   "display_name": "openfoodfact",
   "language": "python",
   "name": "python3"
  },
  "language_info": {
   "codemirror_mode": {
    "name": "ipython",
    "version": 3
   },
   "file_extension": ".py",
   "mimetype": "text/x-python",
   "name": "python",
   "nbconvert_exporter": "python",
   "pygments_lexer": "ipython3",
   "version": "3.9.13"
  },
  "vscode": {
   "interpreter": {
    "hash": "8fddf81331d3d403736c81a6e969efb76dc4d870870bdc04eed7585b0e0dd8d4"
   }
  }
 },
 "nbformat": 4,
 "nbformat_minor": 2
}
