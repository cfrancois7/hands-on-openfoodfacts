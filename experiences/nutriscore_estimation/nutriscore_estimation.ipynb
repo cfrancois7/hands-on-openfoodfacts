{
 "cells": [
  {
   "cell_type": "markdown",
   "metadata": {},
   "source": [
    "**Purpose**\n",
    "- [ ] look at the product data\n",
    "- [ ] manipulate simple machine learning tools\n",
    "- [ ] estimate nutriscore from already tagged data"
   ]
  },
  {
   "cell_type": "code",
   "execution_count": 1,
   "metadata": {},
   "outputs": [],
   "source": [
    "# # to install basic packages\n",
    "# !pip install -U scikit-learn matplotlib numpy pandas "
   ]
  },
  {
   "cell_type": "markdown",
   "metadata": {},
   "source": [
    "# Data preparation"
   ]
  },
  {
   "cell_type": "code",
   "execution_count": 27,
   "metadata": {},
   "outputs": [],
   "source": [
    "from pathlib import Path\n",
    "import json\n",
    "from IPython.display import JSON, display\n",
    "\n",
    "DATA_PATH = Path('../../data').resolve()"
   ]
  },
  {
   "cell_type": "code",
   "execution_count": 3,
   "metadata": {},
   "outputs": [],
   "source": [
    "\n",
    "with open(DATA_PATH / 'products.json', 'r') as file:\n",
    "    data = json.load(file)"
   ]
  },
  {
   "cell_type": "code",
   "execution_count": 28,
   "metadata": {},
   "outputs": [
    {
     "name": "stderr",
     "output_type": "stream",
     "text": [
      "/tmp/ipykernel_20753/3994471736.py:3: DtypeWarning: Columns (0,28) have mixed types. Specify dtype option on import or set low_memory=False.\n",
      "  df = read_csv(DATA_PATH / 'products.csv')\n"
     ]
    }
   ],
   "source": [
    "from pandas import DataFrame, read_csv\n",
    "\n",
    "df = read_csv(DATA_PATH / 'products.csv')"
   ]
  },
  {
   "cell_type": "code",
   "execution_count": 31,
   "metadata": {},
   "outputs": [
    {
     "data": {
      "text/plain": [
       "Index(['code', 'packaging_tags', 'ingredients_text_fr', 'additives_n',\n",
       "       'ingredients_n', 'product_quantity', 'scans_n', 'brands',\n",
       "       'nutriscore_score', 'manufacturing_places', 'food_groups', 'stores',\n",
       "       'labels', 'countries_tags', 'origins_tags', 'categories',\n",
       "       'ecoscore_score', 'serving_size', 'quantity', 'purchase_places',\n",
       "       'food_groups_tags', 'unique_scans_n', 'ingredients_tags',\n",
       "       'categories_tags', 'popularity_tags', 'manufacturing_places_tags',\n",
       "       'labels_tags', 'additives_tags', 'id', 'nutriments',\n",
       "       'nutrition_data_prepared_per', 'nova_group', 'ingredients_hierarchy',\n",
       "       'nova_groups_tags', 'compared_to_category', 'serving_quantity',\n",
       "       'countries', 'product_name', 'ingredients_text_en', 'ecoscore_grade',\n",
       "       'origins', 'origins_en'],\n",
       "      dtype='object')"
      ]
     },
     "execution_count": 31,
     "metadata": {},
     "output_type": "execute_result"
    }
   ],
   "source": [
    "df.columns"
   ]
  },
  {
   "cell_type": "code",
   "execution_count": 22,
   "metadata": {},
   "outputs": [
    {
     "data": {
      "text/plain": [
       "{'energy-kcal_100g': 42,\n",
       " 'saturated-fat_100g': 0,\n",
       " 'energy-kj_100g': 180,\n",
       " 'sodium_100g': 0,\n",
       " 'energy_100g': 180,\n",
       " 'carbohydrates_100g': 10.6,\n",
       " 'proteins_100g': 0,\n",
       " 'fat_100g': 0,\n",
       " 'nova-group_100g': 4,\n",
       " 'fruits-vegetables-nuts-estimate-from-ingredients_100g': 0,\n",
       " 'nutrition-score-fr_100g': 14,\n",
       " 'salt_100g': 0,\n",
       " 'sugars_100g': 10.6}"
      ]
     },
     "execution_count": 22,
     "metadata": {},
     "output_type": "execute_result"
    }
   ],
   "source": [
    "{k:v for k, v in data[0]['nutriments'].items() if '_100g' in k}"
   ]
  },
  {
   "cell_type": "code",
   "execution_count": null,
   "metadata": {},
   "outputs": [],
   "source": []
  }
 ],
 "metadata": {
  "kernelspec": {
   "display_name": "Python 3 (ipykernel)",
   "language": "python",
   "name": "python3"
  },
  "language_info": {
   "codemirror_mode": {
    "name": "ipython",
    "version": 3
   },
   "file_extension": ".py",
   "mimetype": "text/x-python",
   "name": "python",
   "nbconvert_exporter": "python",
   "pygments_lexer": "ipython3",
   "version": "3.9.13"
  },
  "vscode": {
   "interpreter": {
    "hash": "8fddf81331d3d403736c81a6e969efb76dc4d870870bdc04eed7585b0e0dd8d4"
   }
  }
 },
 "nbformat": 4,
 "nbformat_minor": 2
}
