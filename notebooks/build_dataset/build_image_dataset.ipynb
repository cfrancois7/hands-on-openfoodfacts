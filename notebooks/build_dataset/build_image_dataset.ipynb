{
 "cells": [
  {
   "cell_type": "markdown",
   "metadata": {},
   "source": [
    "# Pre-requisite libraries"
   ]
  },
  {
   "cell_type": "markdown",
   "metadata": {},
   "source": [
    "# Extract info"
   ]
  },
  {
   "cell_type": "markdown",
   "metadata": {},
   "source": [
    "**WARNING: The following code supposes that your install one OpenFoodFact MongoDB instance locally.**"
   ]
  },
  {
   "cell_type": "code",
   "execution_count": null,
   "metadata": {},
   "outputs": [],
   "source": [
    "from pymongo import MongoClient\n",
    "from module.utils import parse, get_image, save_image\n",
    "from tqdm import tqdm\n",
    "import json\n",
    "from pathlib import Path"
   ]
  },
  {
   "cell_type": "code",
   "execution_count": null,
   "metadata": {},
   "outputs": [],
   "source": [
    "DATA_PATH = Path('./data')"
   ]
  },
  {
   "cell_type": "code",
   "execution_count": null,
   "metadata": {},
   "outputs": [],
   "source": [
    "client = MongoClient('localhost', 27017, connectTimeoutMS=5000, serverSelectionTimeoutMS=5000)\n",
    "db = client['off']\n",
    "collection = db['products']\n",
    "prefix = 'https://images.openfoodfacts.org/images/products/'"
   ]
  },
  {
   "cell_type": "code",
   "execution_count": null,
   "metadata": {},
   "outputs": [],
   "source": [
    "projection = {\n",
    "    'id':1,\n",
    "    'code':1,\n",
    "    'images':1,\n",
    "    'abbreviated_product_name':1,\n",
    "    'product_name':1,\n",
    "    }\n",
    "query = {\n",
    "    'countries':{'$nin':['France', 'en:fr']},\n",
    "    'images':{\"$exists\":True, '$ne':[]}\n",
    "    }\n",
    "cursor = collection.find(query, projection=projection, limit=10000)"
   ]
  },
  {
   "cell_type": "code",
   "execution_count": null,
   "metadata": {},
   "outputs": [],
   "source": [
    "from pymongo.errors import ServerSelectionTimeoutError\n",
    "from pathlib import Path\n",
    "import json\n",
    "\n",
    "f = DATA_PATH / 'image_url.json'\n",
    "\n",
    "try:\n",
    "    ids = [i for i in cursor]\n",
    "    image_url_dict = {i['code']:parse(i, prefix=prefix) for i in ids}\n",
    "except ServerSelectionTimeoutError:\n",
    "    # Does it exists the file locally?\n",
    "    if f.is_file():\n",
    "        with open(f, 'r') as file:\n",
    "            image_url_dict = json.load(file)\n",
    "            \n",
    "with open(f, 'w') as file:\n",
    "    json.dump(image_url_dict, file)"
   ]
  },
  {
   "cell_type": "code",
   "execution_count": null,
   "metadata": {},
   "outputs": [],
   "source": [
    "# build dict with code as key and product_name and/or\n",
    "# abbreviated_product_name when they exist\n",
    "id_name_dict = {\n",
    "    i['code']:{\n",
    "    'product_name':i.get('product_name', 'NA'),\n",
    "    'abbreviated_product_name':i.get('abbreviated_product_name', 'NA')\n",
    "    } for i in ids\n",
    "}\n",
    "# save the dict into .json file.\n",
    "with open(DATA_PATH / 'label_of_products.json', 'w') as file:\n",
    "     file.write(json.dumps(id_name_dict))"
   ]
  },
  {
   "cell_type": "markdown",
   "metadata": {},
   "source": [
    "# Download images one by one (long, should be optimized)"
   ]
  },
  {
   "cell_type": "code",
   "execution_count": null,
   "metadata": {},
   "outputs": [],
   "source": [
    "DOWNLOADED_IMAGE_LIST = DATA_PATH / 'images_downloaded.txt'"
   ]
  },
  {
   "cell_type": "code",
   "execution_count": null,
   "metadata": {},
   "outputs": [],
   "source": [
    "if DOWNLOADED_IMAGE_LIST.exists():\n",
    "    with open(str(DOWNLOADED_IMAGE_LIST), 'r') as f:\n",
    "        downloaded = f.readlines()\n",
    "    # set is faster than list for existence\n",
    "    downloaded = set([i.strip() for i in downloaded])\n",
    "else:\n",
    "    downloaded = set()\n",
    "\n",
    "for code, urls in tqdm(image_url_dict.items()):\n",
    "    if code in downloaded:\n",
    "        pass\n",
    "    else:\n",
    "        for image_url in urls:\n",
    "            image = get_image(image_url)\n",
    "            save_image('data/images', code, image_url, image)\n",
    "            DOWNLOADED_IMAGE_LIST.touch(exist_ok=True)\n",
    "        with open(str(DOWNLOADED_IMAGE_LIST), 'a') as f:\n",
    "            f.write(f'{code}\\n')"
   ]
  }
 ],
 "metadata": {
  "kernelspec": {
   "display_name": "Python 3 (ipykernel)",
   "language": "python",
   "name": "python3"
  },
  "language_info": {
   "codemirror_mode": {
    "name": "ipython",
    "version": 3
   },
   "file_extension": ".py",
   "mimetype": "text/x-python",
   "name": "python",
   "nbconvert_exporter": "python",
   "pygments_lexer": "ipython3",
   "version": "3.9.13"
  },
  "vscode": {
   "interpreter": {
    "hash": "8fddf81331d3d403736c81a6e969efb76dc4d870870bdc04eed7585b0e0dd8d4"
   }
  }
 },
 "nbformat": 4,
 "nbformat_minor": 4
}
